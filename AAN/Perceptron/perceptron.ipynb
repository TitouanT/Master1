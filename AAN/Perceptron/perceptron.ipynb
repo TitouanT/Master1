{
 "cells": [
  {
   "cell_type": "markdown",
   "metadata": {},
   "source": [
    "# TP Perceptron -- Titouan Teyssier\n",
    "\n",
    "## 1. Préparation des données"
   ]
  },
  {
   "cell_type": "code",
   "execution_count": 1,
   "metadata": {
    "attributes": {
     "classes": [],
     "id": "",
     "n": "1"
    }
   },
   "outputs": [],
   "source": [
    "import csv\n",
    "data_str = []\n",
    "with open(\"house_votes_84.data\", \"r\") as file:\n",
    "    csvReader = csv.reader(file)\n",
    "    for entry in csvReader:\n",
    "        data_str.append(entry)"
   ]
  },
  {
   "cell_type": "markdown",
   "metadata": {},
   "source": [
    "### definition de la transformation text -> num"
   ]
  },
  {
   "cell_type": "code",
   "execution_count": 2,
   "metadata": {
    "attributes": {
     "classes": [],
     "id": "",
     "n": "12"
    }
   },
   "outputs": [],
   "source": [
    "def entry_str2num(entry):\n",
    "    num = []\n",
    "    etiquette = classe_str2num(entry[0])\n",
    "    num.append(1) # pour tous les individus pour être multiplier au bias\n",
    "    for val in entry[1:]:\n",
    "        num.append(vote_str2num(val))\n",
    "    return [etiquette, num]\n",
    "\n",
    "def vote_str2num(s):\n",
    "    return {'n': -1, 'y': 1, '?': 0}[s]\n",
    "\n",
    "def classe_str2num(s):\n",
    "    return {'republican': -1, 'democrat': 1}[s]\n"
   ]
  },
  {
   "cell_type": "markdown",
   "metadata": {},
   "source": [
    "### definition de la transformation num -> texte"
   ]
  },
  {
   "cell_type": "code",
   "execution_count": 3,
   "metadata": {
    "attributes": {
     "classes": [],
     "id": "",
     "n": "11"
    }
   },
   "outputs": [],
   "source": [
    "def vote_num2str(n):\n",
    "    return {-1: 'n', 1: 'y', 0: '?'}[n]\n",
    "\n",
    "def classe_num2str(n):\n",
    "    return {-1: 'republican', 1: 'democrat'}[n]"
   ]
  },
  {
   "cell_type": "markdown",
   "metadata": {},
   "source": [
    "### transformation des données textuelles en données numérique"
   ]
  },
  {
   "cell_type": "code",
   "execution_count": 4,
   "metadata": {
    "attributes": {
     "classes": [],
     "id": "",
     "n": "13"
    }
   },
   "outputs": [],
   "source": [
    "data_num = [entry_str2num(entry) for entry in data_str]"
   ]
  },
  {
   "cell_type": "markdown",
   "metadata": {},
   "source": [
    "### création des corpus d'apprentissage et de test"
   ]
  },
  {
   "cell_type": "code",
   "execution_count": 5,
   "metadata": {
    "attributes": {
     "classes": [],
     "id": "",
     "n": "199"
    }
   },
   "outputs": [],
   "source": [
    "# on mélange les données\n",
    "import numpy as np\n",
    "np.random.seed(50)\n",
    "np.random.shuffle(data_num)\n",
    "\n",
    "# on découpe les données en 2 corpus: app et test\n",
    "decoupage = 100\n",
    "# decoupage = len(data_num)//2\n",
    "corpus_test = data_num[:decoupage]\n",
    "corpus_app = data_num[decoupage:]"
   ]
  },
  {
   "cell_type": "markdown",
   "metadata": {},
   "source": [
    "## 2. La fonction classify"
   ]
  },
  {
   "cell_type": "code",
   "execution_count": 6,
   "metadata": {
    "attributes": {
     "classes": [],
     "id": "",
     "n": "21"
    }
   },
   "outputs": [],
   "source": [
    "def sign(a):\n",
    "    if a >= 0:\n",
    "        return 1\n",
    "    return -1\n",
    "\n",
    "def ident(a):\n",
    "    return a\n",
    "\n",
    "def classify(individus, weight, transform=sign):\n",
    "    a = sum((xi*wi for xi, wi in zip(individus, weight)))\n",
    "    return transform(a)"
   ]
  },
  {
   "cell_type": "markdown",
   "metadata": {},
   "source": [
    "## 3. La fonction test"
   ]
  },
  {
   "cell_type": "code",
   "execution_count": 7,
   "metadata": {
    "attributes": {
     "classes": [],
     "id": "",
     "n": "86"
    }
   },
   "outputs": [],
   "source": [
    "def test(corpus, weight):\n",
    "    nErr = sum((test_entry(entry, weight) for entry in corpus))\n",
    "#     print(nErr)\n",
    "    return nErr / len(corpus)\n",
    "\n",
    "def test_entry(entry, weight):\n",
    "    guess = classify(entry[1], weight)\n",
    "    real = entry[0]\n",
    "    if (guess * real) < 0:\n",
    "        return 1\n",
    "    return 0"
   ]
  },
  {
   "cell_type": "markdown",
   "metadata": {},
   "source": [
    "## 4. La fonction train: definition d'un critère d'arret"
   ]
  },
  {
   "cell_type": "code",
   "execution_count": 8,
   "metadata": {},
   "outputs": [],
   "source": [
    "# les différentes tactique pour faire une epoch\n",
    "def epoch(corpus, weight, learningrate):\n",
    "    for entry in corpus:\n",
    "        if test_entry(entry, weight) == 1: # 1 erreur\n",
    "            # maj des poids\n",
    "            for i in range(len(weight)):\n",
    "                weight[i] += entry[1][i] * entry[0] * learningrate\n",
    "\n",
    "\n",
    "def epoch_cumul(corpus, weight, learningrate):\n",
    "    cumul = [0 for w in weight]\n",
    "    for entry in corpus:\n",
    "        if test_entry(entry, weight) == 1: # 1 erreur\n",
    "            for i in range(len(weight)):\n",
    "                cumul[i] += entry[1][i] * entry[0] * learningrate\n",
    "    \n",
    "    for i in range(len(weight)):\n",
    "        weight[i] += cumul[i]"
   ]
  },
  {
   "cell_type": "code",
   "execution_count": 9,
   "metadata": {},
   "outputs": [],
   "source": [
    "# les différente tactique pour calculer le learning rate\n",
    "\n",
    "# calcul du learning rate en fonction de l'avancement dans le nombre d'iteration\n",
    "def decrease_lr(avancement):\n",
    "    return 1 - avancement*0.5\n",
    "\n",
    "# calcul du learning rate en fonction de l'avancement dans le nombre d'iteration\n",
    "def lr_const(lr):\n",
    "    def fun(avancement):\n",
    "        return lr\n",
    "    return fun"
   ]
  },
  {
   "cell_type": "code",
   "execution_count": 10,
   "metadata": {
    "attributes": {
     "classes": [],
     "id": "",
     "n": "193"
    }
   },
   "outputs": [],
   "source": [
    "def train(corpus, maxIter=500, calc_lr=lr_const(1), do_epoch=epoch):\n",
    "    lenw = len(corpus[0][1])\n",
    "    weight = [0 for i in range(lenw)]\n",
    "    best_weight = []\n",
    "    lowest_err = 1\n",
    "    errors = []\n",
    "    errors_test = []\n",
    "    err = 1\n",
    "    \n",
    "    for i in range(maxIter):\n",
    "        do_epoch(corpus, weight, calc_lr(i/maxIter))\n",
    "        err = test(corpus, weight)\n",
    "        \n",
    "        errors.append(err*100)\n",
    "        errors_test.append(test(corpus_test, weight)*100)\n",
    "        if (err < lowest_err):\n",
    "            best_weight = [w for w in weight]\n",
    "            lowest_err = err\n",
    "        if err == 0:\n",
    "            break\n",
    "    affError(errors, errors_test)\n",
    "    return best_weight\n",
    "\n",
    "def affError(errors, errors_test):\n",
    "    import matplotlib.pyplot as plt\n",
    "    plt.plot(range(len(errors)), errors)\n",
    "    plt.plot(range(len(errors_test)), errors_test)\n",
    "    plt.show()"
   ]
  },
  {
   "cell_type": "code",
   "execution_count": 16,
   "metadata": {
    "attributes": {
     "classes": [],
     "id": "",
     "n": "218"
    }
   },
   "outputs": [
    {
     "data": {
      "image/png": "[encoded data removed]",
      "text/plain": [
       "<Figure size 432x288 with 1 Axes>"
      ]
     },
     "metadata": {
      "needs_background": "light"
     },
     "output_type": "display_data"
    },
    {
     "name": "stdout",
     "output_type": "stream",
     "text": [
      "CPU times: user 1.01 s, sys: 153 ms, total: 1.16 s\n",
      "Wall time: 969 ms\n",
      "test corpus app: 0.60% d'erreur\n",
      "test corpus test: 6.00% d'erreur\n",
      "test corpus entier: 1.84% d'erreur\n",
      "[19.2, -4.0, 3.2, 8.0, -21.6, -10.4, 4.8, -8.0, -2.4, 8.8, -11.2, 8.8, -2.4, 1.6, -4.8, 4.0, -4.8]\n"
     ]
    }
   ],
   "source": [
    "%time weight = train(corpus_app, 500, lr_const(0.8))\n",
    "\n",
    "print(\"test corpus app: {:.2f}% d'erreur\".format(test(corpus_app, weight) * 100))\n",
    "print(\"test corpus test: {:.2f}% d'erreur\".format(test(corpus_test, weight) * 100))\n",
    "print(\"test corpus entier: {:.2f}% d'erreur\".format(test(data_num, weight) * 100))\n",
    "\n",
    "print([float(\"{:.2f}\".format(w)) for w in weight])\n"
   ]
  },
  {
   "cell_type": "markdown",
   "metadata": {},
   "source": [
    "### Sommes nous sùrs d'atteindre 0 erreur sur le corpus d'apprentissage ?\n",
    "Non\n",
    "car nous n'avons aucune garantie que le problème soit linéairement séparable."
   ]
  },
  {
   "cell_type": "markdown",
   "metadata": {},
   "source": [
    "##  Adaline"
   ]
  },
  {
   "cell_type": "code",
   "execution_count": 12,
   "metadata": {},
   "outputs": [],
   "source": [
    "# les différentes tactique pour faire une epoch\n",
    "def epoch_adaline(corpus, weight, learningrate):\n",
    "    for entry in corpus:\n",
    "        if test_entry(entry, weight) == 1: # 1 erreur\n",
    "            a = classify(entry[1], weight, ident)\n",
    "            # maj des poids\n",
    "            for i in range(len(weight)):\n",
    "                weight[i] += learningrate * entry[1][i] * (entry[0]-a)\n",
    "\n",
    "def train_adaline(corpus, maxIter=500, calc_lr=lr_const(0.001)):\n",
    "    lenw = len(corpus[0][1])\n",
    "    borne = 1/lenw**0.5\n",
    "    weight = [np.random.rand()*2*borne - borne for i in range(lenw)]\n",
    "    best_weight = []\n",
    "    lowest_err = 1\n",
    "    errors = []\n",
    "    errors_test = []\n",
    "    err = 1\n",
    "    for i in range(maxIter):\n",
    "        epoch_adaline(corpus, weight, calc_lr(i/maxIter))\n",
    "        err = test(corpus, weight)\n",
    "        err_t = test(corpus_test, weight)\n",
    "        errors.append(err*100)\n",
    "        errors_test.append(err_t*100)\n",
    "        if (err < lowest_err):\n",
    "            best_weight = [w for w in weight]\n",
    "            lowest_err = err\n",
    "        if err == 0:\n",
    "            break\n",
    "    affError(errors, errors_test)\n",
    "    return best_weight"
   ]
  },
  {
   "cell_type": "code",
   "execution_count": 15,
   "metadata": {},
   "outputs": [
    {
     "data": {
      "image/png": "[encoded data removed]",
      "text/plain": [
       "<Figure size 432x288 with 1 Axes>"
      ]
     },
     "metadata": {
      "needs_background": "light"
     },
     "output_type": "display_data"
    },
    {
     "name": "stdout",
     "output_type": "stream",
     "text": [
      "CPU times: user 1.01 s, sys: 114 ms, total: 1.12 s\n",
      "Wall time: 952 ms\n",
      "test corpus app: 0.30% d'erreur\n",
      "test corpus test: 6.00% d'erreur\n",
      "test corpus entier: 1.61% d'erreur\n",
      "[0.12, -0.05, 0.04, 0.06, -0.16, -0.1, 0.03, -0.08, -0.0, 0.06, -0.07, 0.06, -0.03, 0.04, -0.0, 0.03, -0.03]\n"
     ]
    }
   ],
   "source": [
    "# weight_ada = train_adaline(corpus_app)\n",
    "# weight_ada_t2 = [0.1510500567189653, -0.05900159151553557, 0.055360215335357656, 0.07034325918389381, -0.196623038187321, -0.12766209460687358, 0.037642400839676286, -0.09233007227978052, -0.000268358142666725, 0.06425635723291666, -0.07899265264944152, 0.07128998154003932, -0.03021440749812178, 0.05171664822097587, 0.005243823891725644, 0.034162255302922065, -0.03168406055189952]\n",
    "# weight_ada_val = [-0.019751978426461404, 0.06234896470498003, 0.15722959975257045, -0.5694675257283899, 0.042285025099868576, 0.06299715959042836, 0.13743946696819545, 0.01587760276548989, 0.09558886312238858, -0.06569658639347606, 0.11846821021798348, -0.17751571578458303, 0.030567576424139896, 0.06753237332138436, 0.043380480310895794, -0.04813199505851452, 0.046308900272185545]\n",
    "# weight_ada_val = [weight_ada_val[-1]]+ weight_ada_val[:-1]\n",
    "# weight_ada = weight_ada_t2\n",
    "%time weight_ada = train_adaline(corpus_app, 500)\n",
    "print(\"test corpus app: {:.2f}% d'erreur\".format(test(corpus_app, weight_ada) * 100))\n",
    "print(\"test corpus test: {:.2f}% d'erreur\".format(test(corpus_test, weight_ada) * 100))\n",
    "print(\"test corpus entier: {:.2f}% d'erreur\".format(test(data_num, weight_ada) * 100))\n",
    "\n",
    "print([float(\"{:.2f}\".format(w)) for w in weight_ada])"
   ]
  }
 ],
 "metadata": {
  "kernelspec": {
   "display_name": "Python 3",
   "language": "python",
   "name": "python3"
  },
  "language_info": {
   "codemirror_mode": {
    "name": "ipython",
    "version": 3
   },
   "file_extension": ".py",
   "mimetype": "text/x-python",
   "name": "python",
   "nbconvert_exporter": "python",
   "pygments_lexer": "ipython3",
   "version": "3.7.1"
  }
 },
 "nbformat": 4,
 "nbformat_minor": 2
}
