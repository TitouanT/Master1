{
 "cells": [
  {
   "cell_type": "markdown",
   "metadata": {},
   "source": [
    "#  <span style=\"text-align=center; color:DarkMagenta; font-family:Georgia; font-size:1.2em;\"> **   Titouan Teyssier- M1- TP1 Apprentissage Automatique et Numérique_** </span>"
   ]
  },
  {
   "cell_type": "markdown",
   "metadata": {},
   "source": [
    "# <span style=\"color:green; font-family:Georgia; font-size:1.5em;\">1. Introduction"
   ]
  },
  {
   "cell_type": "markdown",
   "metadata": {},
   "source": [
    "<span style=\"color:black; font-family:Georgia; font-size:1.3em;\">Les objectifs de ce premier TP sont :</span>\n",
    "\n",
    "1. <span style=\"color:blue; font-family:Georgia; font-size:1.2em;\">Exploration et Visualisation de données avec la bibliothèque __Pandas__</span>\n",
    "\n",
    "2. <span style=\"color:blue; font-family:Georgia; font-size:1.2em;\">Implémentation d'une régression Linéaire Multiple avec la méthode de __moindres carrés__</span>\n",
    "\n",
    "<span style=\"color:black; font-family:Georgia; font-size:1.3em;\">Regression Lineaire : </span>\n",
    "\n",
    "1. <span style=\"color:blue; font-family:Georgia; font-size:1.2em;\"> Formule : $ y=\\sum_{i=1}^N w_i x_i + b  $  </span>\n",
    "\n",
    "<span style=\"color:black; font-family:Georgia; font-size:1.3em;\">Regression Lineaire Simple : </span>\n",
    "\n",
    "2. <span style=\"color:blue; font-family:Georgia; font-size:1.2em;\"> $ N = 1 $ donc $ y= \\beta_1 x_1 + \\beta_0  $ </span>\n",
    "\n"
   ]
  },
  {
   "cell_type": "markdown",
   "metadata": {},
   "source": [
    "# <span style=\"color:green; font-family:Georgia; font-size:1.5em;\">2. Jeux de données \n",
    "\n",
    "<span style=\"font-family:Georgia; font-size:1.2em;\">House Pricing is dataset describing the sale of individual residential property from 2006 to 2010. It contains a large number of explanatory variables involved in assessing home values. This data set gives you the opportunity to display the skills they had learned within the class.</span>\n",
    "\n",
    "<span style=\"font-family:Georgia; font-size:1.2em;\"> * We will use the _House Pricing_ dataset for a regression project with a <span style=\"color:red\">simple linear regression </span> </span>\n",
    "\n",
    "<span style=\"font-family:Georgia; font-size:1.2em;\"> * We will implement the  <span style=\"color:red\"> Least Squares Method </span> to learn a prediction  model for the _House Pricing_ dataset</span>\n",
    "\n",
    "\n",
    "\n"
   ]
  },
  {
   "cell_type": "markdown",
   "metadata": {},
   "source": [
    "# <span style=\"color:green; font-family:Georgia; font-size:1.5em;\">3. Exploration  et Visualisation de données </span>\n",
    "## <span style=\"color:brown; font-family:Gemesorgia; font-size:1.3em;\">3.1 Objectifs </span>\n",
    "\n",
    "1. <span style=\"color:blue; font-family:Georgia; font-size:1.2em;\">Importation de la base de données avec pandas </span>\n",
    "\n",
    "2. <span style=\"color:blue; font-family:Georgia; font-size:1.2em;\"> Calcul de la correlation entre les variables explicatives et la variable expliquée _SalePrice_  </span>\n",
    "3. <span style=\"color:blue; font-family:Georgia; font-size:1.2em;\">Choisir la variable explicative (exogène) </span>\n"
   ]
  },
  {
   "cell_type": "code",
   "execution_count": 1,
   "metadata": {},
   "outputs": [],
   "source": [
    "import pandas as pd\n",
    "import numpy as np\n",
    "import matplotlib.pyplot as plt\n",
    "%matplotlib inline"
   ]
  },
  {
   "cell_type": "markdown",
   "metadata": {},
   "source": [
    "## <span style=\"color:brown; font-family:times; font-size:1.3em;\">3.2 Load the training and testing data </span> "
   ]
  },
  {
   "cell_type": "code",
   "execution_count": 2,
   "metadata": {},
   "outputs": [
    {
     "data": {
      "text/html": [
       "<div>\n",
       "<style scoped>\n",
       "    .dataframe tbody tr th:only-of-type {\n",
       "        vertical-align: middle;\n",
       "    }\n",
       "\n",
       "    .dataframe tbody tr th {\n",
       "        vertical-align: top;\n",
       "    }\n",
       "\n",
       "    .dataframe thead th {\n",
       "        text-align: right;\n",
       "    }\n",
       "</style>\n",
       "<table border=\"1\" class=\"dataframe\">\n",
       "  <thead>\n",
       "    <tr style=\"text-align: right;\">\n",
       "      <th></th>\n",
       "      <th>Id</th>\n",
       "      <th>MSSubClass</th>\n",
       "      <th>MSZoning</th>\n",
       "      <th>LotFrontage</th>\n",
       "      <th>LotArea</th>\n",
       "      <th>Street</th>\n",
       "      <th>Alley</th>\n",
       "      <th>LotShape</th>\n",
       "      <th>LandContour</th>\n",
       "      <th>Utilities</th>\n",
       "      <th>...</th>\n",
       "      <th>PoolArea</th>\n",
       "      <th>PoolQC</th>\n",
       "      <th>Fence</th>\n",
       "      <th>MiscFeature</th>\n",
       "      <th>MiscVal</th>\n",
       "      <th>MoSold</th>\n",
       "      <th>YrSold</th>\n",
       "      <th>SaleType</th>\n",
       "      <th>SaleCondition</th>\n",
       "      <th>SalePrice</th>\n",
       "    </tr>\n",
       "  </thead>\n",
       "  <tbody>\n",
       "    <tr>\n",
       "      <th>0</th>\n",
       "      <td>1</td>\n",
       "      <td>60</td>\n",
       "      <td>RL</td>\n",
       "      <td>65.0</td>\n",
       "      <td>8450</td>\n",
       "      <td>Pave</td>\n",
       "      <td>NaN</td>\n",
       "      <td>Reg</td>\n",
       "      <td>Lvl</td>\n",
       "      <td>AllPub</td>\n",
       "      <td>...</td>\n",
       "      <td>0</td>\n",
       "      <td>NaN</td>\n",
       "      <td>NaN</td>\n",
       "      <td>NaN</td>\n",
       "      <td>0</td>\n",
       "      <td>2</td>\n",
       "      <td>2008</td>\n",
       "      <td>WD</td>\n",
       "      <td>Normal</td>\n",
       "      <td>208500</td>\n",
       "    </tr>\n",
       "    <tr>\n",
       "      <th>1</th>\n",
       "      <td>2</td>\n",
       "      <td>20</td>\n",
       "      <td>RL</td>\n",
       "      <td>80.0</td>\n",
       "      <td>9600</td>\n",
       "      <td>Pave</td>\n",
       "      <td>NaN</td>\n",
       "      <td>Reg</td>\n",
       "      <td>Lvl</td>\n",
       "      <td>AllPub</td>\n",
       "      <td>...</td>\n",
       "      <td>0</td>\n",
       "      <td>NaN</td>\n",
       "      <td>NaN</td>\n",
       "      <td>NaN</td>\n",
       "      <td>0</td>\n",
       "      <td>5</td>\n",
       "      <td>2007</td>\n",
       "      <td>WD</td>\n",
       "      <td>Normal</td>\n",
       "      <td>181500</td>\n",
       "    </tr>\n",
       "    <tr>\n",
       "      <th>2</th>\n",
       "      <td>3</td>\n",
       "      <td>60</td>\n",
       "      <td>RL</td>\n",
       "      <td>68.0</td>\n",
       "      <td>11250</td>\n",
       "      <td>Pave</td>\n",
       "      <td>NaN</td>\n",
       "      <td>IR1</td>\n",
       "      <td>Lvl</td>\n",
       "      <td>AllPub</td>\n",
       "      <td>...</td>\n",
       "      <td>0</td>\n",
       "      <td>NaN</td>\n",
       "      <td>NaN</td>\n",
       "      <td>NaN</td>\n",
       "      <td>0</td>\n",
       "      <td>9</td>\n",
       "      <td>2008</td>\n",
       "      <td>WD</td>\n",
       "      <td>Normal</td>\n",
       "      <td>223500</td>\n",
       "    </tr>\n",
       "    <tr>\n",
       "      <th>3</th>\n",
       "      <td>4</td>\n",
       "      <td>70</td>\n",
       "      <td>RL</td>\n",
       "      <td>60.0</td>\n",
       "      <td>9550</td>\n",
       "      <td>Pave</td>\n",
       "      <td>NaN</td>\n",
       "      <td>IR1</td>\n",
       "      <td>Lvl</td>\n",
       "      <td>AllPub</td>\n",
       "      <td>...</td>\n",
       "      <td>0</td>\n",
       "      <td>NaN</td>\n",
       "      <td>NaN</td>\n",
       "      <td>NaN</td>\n",
       "      <td>0</td>\n",
       "      <td>2</td>\n",
       "      <td>2006</td>\n",
       "      <td>WD</td>\n",
       "      <td>Abnorml</td>\n",
       "      <td>140000</td>\n",
       "    </tr>\n",
       "    <tr>\n",
       "      <th>4</th>\n",
       "      <td>5</td>\n",
       "      <td>60</td>\n",
       "      <td>RL</td>\n",
       "      <td>84.0</td>\n",
       "      <td>14260</td>\n",
       "      <td>Pave</td>\n",
       "      <td>NaN</td>\n",
       "      <td>IR1</td>\n",
       "      <td>Lvl</td>\n",
       "      <td>AllPub</td>\n",
       "      <td>...</td>\n",
       "      <td>0</td>\n",
       "      <td>NaN</td>\n",
       "      <td>NaN</td>\n",
       "      <td>NaN</td>\n",
       "      <td>0</td>\n",
       "      <td>12</td>\n",
       "      <td>2008</td>\n",
       "      <td>WD</td>\n",
       "      <td>Normal</td>\n",
       "      <td>250000</td>\n",
       "    </tr>\n",
       "  </tbody>\n",
       "</table>\n",
       "<p>5 rows × 81 columns</p>\n",
       "</div>"
      ],
      "text/plain": [
       "   Id  MSSubClass MSZoning  LotFrontage  LotArea Street Alley LotShape  \\\n",
       "0   1          60       RL         65.0     8450   Pave   NaN      Reg   \n",
       "1   2          20       RL         80.0     9600   Pave   NaN      Reg   \n",
       "2   3          60       RL         68.0    11250   Pave   NaN      IR1   \n",
       "3   4          70       RL         60.0     9550   Pave   NaN      IR1   \n",
       "4   5          60       RL         84.0    14260   Pave   NaN      IR1   \n",
       "\n",
       "  LandContour Utilities    ...     PoolArea PoolQC Fence MiscFeature MiscVal  \\\n",
       "0         Lvl    AllPub    ...            0    NaN   NaN         NaN       0   \n",
       "1         Lvl    AllPub    ...            0    NaN   NaN         NaN       0   \n",
       "2         Lvl    AllPub    ...            0    NaN   NaN         NaN       0   \n",
       "3         Lvl    AllPub    ...            0    NaN   NaN         NaN       0   \n",
       "4         Lvl    AllPub    ...            0    NaN   NaN         NaN       0   \n",
       "\n",
       "  MoSold YrSold  SaleType  SaleCondition  SalePrice  \n",
       "0      2   2008        WD         Normal     208500  \n",
       "1      5   2007        WD         Normal     181500  \n",
       "2      9   2008        WD         Normal     223500  \n",
       "3      2   2006        WD        Abnorml     140000  \n",
       "4     12   2008        WD         Normal     250000  \n",
       "\n",
       "[5 rows x 81 columns]"
      ]
     },
     "execution_count": 2,
     "metadata": {},
     "output_type": "execute_result"
    }
   ],
   "source": [
    "houses_train = pd.read_csv('train.csv')\n",
    "houses_train.head()"
   ]
  },
  {
   "cell_type": "code",
   "execution_count": 3,
   "metadata": {},
   "outputs": [
    {
     "data": {
      "text/html": [
       "<div>\n",
       "<style scoped>\n",
       "    .dataframe tbody tr th:only-of-type {\n",
       "        vertical-align: middle;\n",
       "    }\n",
       "\n",
       "    .dataframe tbody tr th {\n",
       "        vertical-align: top;\n",
       "    }\n",
       "\n",
       "    .dataframe thead th {\n",
       "        text-align: right;\n",
       "    }\n",
       "</style>\n",
       "<table border=\"1\" class=\"dataframe\">\n",
       "  <thead>\n",
       "    <tr style=\"text-align: right;\">\n",
       "      <th></th>\n",
       "      <th>Id</th>\n",
       "      <th>MSSubClass</th>\n",
       "      <th>MSZoning</th>\n",
       "      <th>LotFrontage</th>\n",
       "      <th>LotArea</th>\n",
       "      <th>Street</th>\n",
       "      <th>Alley</th>\n",
       "      <th>LotShape</th>\n",
       "      <th>LandContour</th>\n",
       "      <th>Utilities</th>\n",
       "      <th>...</th>\n",
       "      <th>PoolArea</th>\n",
       "      <th>PoolQC</th>\n",
       "      <th>Fence</th>\n",
       "      <th>MiscFeature</th>\n",
       "      <th>MiscVal</th>\n",
       "      <th>MoSold</th>\n",
       "      <th>YrSold</th>\n",
       "      <th>SaleType</th>\n",
       "      <th>SaleCondition</th>\n",
       "      <th>SalePrice</th>\n",
       "    </tr>\n",
       "  </thead>\n",
       "  <tbody>\n",
       "    <tr>\n",
       "      <th>0</th>\n",
       "      <td>1200</td>\n",
       "      <td>20</td>\n",
       "      <td>RL</td>\n",
       "      <td>75.0</td>\n",
       "      <td>11235</td>\n",
       "      <td>Pave</td>\n",
       "      <td>NaN</td>\n",
       "      <td>Reg</td>\n",
       "      <td>Lvl</td>\n",
       "      <td>AllPub</td>\n",
       "      <td>...</td>\n",
       "      <td>0</td>\n",
       "      <td>NaN</td>\n",
       "      <td>NaN</td>\n",
       "      <td>NaN</td>\n",
       "      <td>0</td>\n",
       "      <td>10</td>\n",
       "      <td>2006</td>\n",
       "      <td>WD</td>\n",
       "      <td>Normal</td>\n",
       "      <td>148000</td>\n",
       "    </tr>\n",
       "    <tr>\n",
       "      <th>1</th>\n",
       "      <td>1201</td>\n",
       "      <td>20</td>\n",
       "      <td>RL</td>\n",
       "      <td>71.0</td>\n",
       "      <td>9353</td>\n",
       "      <td>Pave</td>\n",
       "      <td>NaN</td>\n",
       "      <td>Reg</td>\n",
       "      <td>Lvl</td>\n",
       "      <td>AllPub</td>\n",
       "      <td>...</td>\n",
       "      <td>0</td>\n",
       "      <td>NaN</td>\n",
       "      <td>NaN</td>\n",
       "      <td>Shed</td>\n",
       "      <td>0</td>\n",
       "      <td>7</td>\n",
       "      <td>2006</td>\n",
       "      <td>Oth</td>\n",
       "      <td>Abnorml</td>\n",
       "      <td>116050</td>\n",
       "    </tr>\n",
       "    <tr>\n",
       "      <th>2</th>\n",
       "      <td>1202</td>\n",
       "      <td>60</td>\n",
       "      <td>RL</td>\n",
       "      <td>80.0</td>\n",
       "      <td>10400</td>\n",
       "      <td>Pave</td>\n",
       "      <td>NaN</td>\n",
       "      <td>Reg</td>\n",
       "      <td>Lvl</td>\n",
       "      <td>AllPub</td>\n",
       "      <td>...</td>\n",
       "      <td>0</td>\n",
       "      <td>NaN</td>\n",
       "      <td>NaN</td>\n",
       "      <td>NaN</td>\n",
       "      <td>0</td>\n",
       "      <td>3</td>\n",
       "      <td>2009</td>\n",
       "      <td>WD</td>\n",
       "      <td>Normal</td>\n",
       "      <td>197900</td>\n",
       "    </tr>\n",
       "    <tr>\n",
       "      <th>3</th>\n",
       "      <td>1203</td>\n",
       "      <td>50</td>\n",
       "      <td>RM</td>\n",
       "      <td>50.0</td>\n",
       "      <td>6000</td>\n",
       "      <td>Pave</td>\n",
       "      <td>NaN</td>\n",
       "      <td>Reg</td>\n",
       "      <td>Lvl</td>\n",
       "      <td>AllPub</td>\n",
       "      <td>...</td>\n",
       "      <td>0</td>\n",
       "      <td>NaN</td>\n",
       "      <td>NaN</td>\n",
       "      <td>NaN</td>\n",
       "      <td>0</td>\n",
       "      <td>5</td>\n",
       "      <td>2009</td>\n",
       "      <td>WD</td>\n",
       "      <td>Normal</td>\n",
       "      <td>117000</td>\n",
       "    </tr>\n",
       "    <tr>\n",
       "      <th>4</th>\n",
       "      <td>1204</td>\n",
       "      <td>20</td>\n",
       "      <td>RL</td>\n",
       "      <td>75.0</td>\n",
       "      <td>9750</td>\n",
       "      <td>Pave</td>\n",
       "      <td>NaN</td>\n",
       "      <td>Reg</td>\n",
       "      <td>Lvl</td>\n",
       "      <td>AllPub</td>\n",
       "      <td>...</td>\n",
       "      <td>0</td>\n",
       "      <td>NaN</td>\n",
       "      <td>NaN</td>\n",
       "      <td>NaN</td>\n",
       "      <td>0</td>\n",
       "      <td>10</td>\n",
       "      <td>2009</td>\n",
       "      <td>WD</td>\n",
       "      <td>Normal</td>\n",
       "      <td>213000</td>\n",
       "    </tr>\n",
       "  </tbody>\n",
       "</table>\n",
       "<p>5 rows × 81 columns</p>\n",
       "</div>"
      ],
      "text/plain": [
       "     Id  MSSubClass MSZoning  LotFrontage  LotArea Street Alley LotShape  \\\n",
       "0  1200          20       RL         75.0    11235   Pave   NaN      Reg   \n",
       "1  1201          20       RL         71.0     9353   Pave   NaN      Reg   \n",
       "2  1202          60       RL         80.0    10400   Pave   NaN      Reg   \n",
       "3  1203          50       RM         50.0     6000   Pave   NaN      Reg   \n",
       "4  1204          20       RL         75.0     9750   Pave   NaN      Reg   \n",
       "\n",
       "  LandContour Utilities    ...     PoolArea PoolQC Fence MiscFeature MiscVal  \\\n",
       "0         Lvl    AllPub    ...            0    NaN   NaN         NaN       0   \n",
       "1         Lvl    AllPub    ...            0    NaN   NaN        Shed       0   \n",
       "2         Lvl    AllPub    ...            0    NaN   NaN         NaN       0   \n",
       "3         Lvl    AllPub    ...            0    NaN   NaN         NaN       0   \n",
       "4         Lvl    AllPub    ...            0    NaN   NaN         NaN       0   \n",
       "\n",
       "  MoSold YrSold  SaleType  SaleCondition  SalePrice  \n",
       "0     10   2006        WD         Normal     148000  \n",
       "1      7   2006       Oth        Abnorml     116050  \n",
       "2      3   2009        WD         Normal     197900  \n",
       "3      5   2009        WD         Normal     117000  \n",
       "4     10   2009        WD         Normal     213000  \n",
       "\n",
       "[5 rows x 81 columns]"
      ]
     },
     "execution_count": 3,
     "metadata": {},
     "output_type": "execute_result"
    }
   ],
   "source": [
    "houses_test= pd.read_csv('test.csv')\n",
    "houses_test.head()"
   ]
  },
  {
   "cell_type": "code",
   "execution_count": 4,
   "metadata": {
    "scrolled": true
   },
   "outputs": [
    {
     "data": {
      "text/html": [
       "<div>\n",
       "<style scoped>\n",
       "    .dataframe tbody tr th:only-of-type {\n",
       "        vertical-align: middle;\n",
       "    }\n",
       "\n",
       "    .dataframe tbody tr th {\n",
       "        vertical-align: top;\n",
       "    }\n",
       "\n",
       "    .dataframe thead th {\n",
       "        text-align: right;\n",
       "    }\n",
       "</style>\n",
       "<table border=\"1\" class=\"dataframe\">\n",
       "  <thead>\n",
       "    <tr style=\"text-align: right;\">\n",
       "      <th></th>\n",
       "      <th>Id</th>\n",
       "      <th>MSSubClass</th>\n",
       "      <th>LotFrontage</th>\n",
       "      <th>LotArea</th>\n",
       "      <th>OverallQual</th>\n",
       "      <th>OverallCond</th>\n",
       "      <th>YearBuilt</th>\n",
       "      <th>YearRemodAdd</th>\n",
       "      <th>MasVnrArea</th>\n",
       "      <th>BsmtFinSF1</th>\n",
       "      <th>...</th>\n",
       "      <th>WoodDeckSF</th>\n",
       "      <th>OpenPorchSF</th>\n",
       "      <th>EnclosedPorch</th>\n",
       "      <th>3SsnPorch</th>\n",
       "      <th>ScreenPorch</th>\n",
       "      <th>PoolArea</th>\n",
       "      <th>MiscVal</th>\n",
       "      <th>MoSold</th>\n",
       "      <th>YrSold</th>\n",
       "      <th>SalePrice</th>\n",
       "    </tr>\n",
       "  </thead>\n",
       "  <tbody>\n",
       "    <tr>\n",
       "      <th>count</th>\n",
       "      <td>1199.000000</td>\n",
       "      <td>1199.000000</td>\n",
       "      <td>989.000000</td>\n",
       "      <td>1199.000000</td>\n",
       "      <td>1199.000000</td>\n",
       "      <td>1199.000000</td>\n",
       "      <td>1199.000000</td>\n",
       "      <td>1199.000000</td>\n",
       "      <td>1193.000000</td>\n",
       "      <td>1199.000000</td>\n",
       "      <td>...</td>\n",
       "      <td>1199.000000</td>\n",
       "      <td>1199.000000</td>\n",
       "      <td>1199.000000</td>\n",
       "      <td>1199.000000</td>\n",
       "      <td>1199.000000</td>\n",
       "      <td>1199.000000</td>\n",
       "      <td>1199.000000</td>\n",
       "      <td>1199.000000</td>\n",
       "      <td>1199.000000</td>\n",
       "      <td>1199.000000</td>\n",
       "    </tr>\n",
       "    <tr>\n",
       "      <th>mean</th>\n",
       "      <td>600.000000</td>\n",
       "      <td>57.105922</td>\n",
       "      <td>70.081901</td>\n",
       "      <td>10558.848207</td>\n",
       "      <td>6.106756</td>\n",
       "      <td>5.568807</td>\n",
       "      <td>1971.357798</td>\n",
       "      <td>1984.992494</td>\n",
       "      <td>104.006706</td>\n",
       "      <td>444.801501</td>\n",
       "      <td>...</td>\n",
       "      <td>95.216013</td>\n",
       "      <td>45.986656</td>\n",
       "      <td>22.196831</td>\n",
       "      <td>3.656380</td>\n",
       "      <td>14.993328</td>\n",
       "      <td>1.910759</td>\n",
       "      <td>40.487073</td>\n",
       "      <td>6.308590</td>\n",
       "      <td>2007.812344</td>\n",
       "      <td>181442.497081</td>\n",
       "    </tr>\n",
       "    <tr>\n",
       "      <th>std</th>\n",
       "      <td>346.265794</td>\n",
       "      <td>42.686374</td>\n",
       "      <td>23.713505</td>\n",
       "      <td>10623.548705</td>\n",
       "      <td>1.382678</td>\n",
       "      <td>1.120485</td>\n",
       "      <td>30.059978</td>\n",
       "      <td>20.535058</td>\n",
       "      <td>183.605510</td>\n",
       "      <td>440.161545</td>\n",
       "      <td>...</td>\n",
       "      <td>124.055413</td>\n",
       "      <td>65.696803</td>\n",
       "      <td>61.529650</td>\n",
       "      <td>30.003428</td>\n",
       "      <td>54.789200</td>\n",
       "      <td>33.162113</td>\n",
       "      <td>482.523289</td>\n",
       "      <td>2.672094</td>\n",
       "      <td>1.318539</td>\n",
       "      <td>81098.986765</td>\n",
       "    </tr>\n",
       "    <tr>\n",
       "      <th>min</th>\n",
       "      <td>1.000000</td>\n",
       "      <td>20.000000</td>\n",
       "      <td>21.000000</td>\n",
       "      <td>1300.000000</td>\n",
       "      <td>1.000000</td>\n",
       "      <td>1.000000</td>\n",
       "      <td>1875.000000</td>\n",
       "      <td>1950.000000</td>\n",
       "      <td>0.000000</td>\n",
       "      <td>0.000000</td>\n",
       "      <td>...</td>\n",
       "      <td>0.000000</td>\n",
       "      <td>0.000000</td>\n",
       "      <td>0.000000</td>\n",
       "      <td>0.000000</td>\n",
       "      <td>0.000000</td>\n",
       "      <td>0.000000</td>\n",
       "      <td>0.000000</td>\n",
       "      <td>1.000000</td>\n",
       "      <td>2006.000000</td>\n",
       "      <td>34900.000000</td>\n",
       "    </tr>\n",
       "    <tr>\n",
       "      <th>25%</th>\n",
       "      <td>300.500000</td>\n",
       "      <td>20.000000</td>\n",
       "      <td>59.000000</td>\n",
       "      <td>7560.000000</td>\n",
       "      <td>5.000000</td>\n",
       "      <td>5.000000</td>\n",
       "      <td>1954.000000</td>\n",
       "      <td>1967.000000</td>\n",
       "      <td>0.000000</td>\n",
       "      <td>0.000000</td>\n",
       "      <td>...</td>\n",
       "      <td>0.000000</td>\n",
       "      <td>0.000000</td>\n",
       "      <td>0.000000</td>\n",
       "      <td>0.000000</td>\n",
       "      <td>0.000000</td>\n",
       "      <td>0.000000</td>\n",
       "      <td>0.000000</td>\n",
       "      <td>5.000000</td>\n",
       "      <td>2007.000000</td>\n",
       "      <td>129900.000000</td>\n",
       "    </tr>\n",
       "    <tr>\n",
       "      <th>50%</th>\n",
       "      <td>600.000000</td>\n",
       "      <td>50.000000</td>\n",
       "      <td>70.000000</td>\n",
       "      <td>9430.000000</td>\n",
       "      <td>6.000000</td>\n",
       "      <td>5.000000</td>\n",
       "      <td>1973.000000</td>\n",
       "      <td>1994.000000</td>\n",
       "      <td>0.000000</td>\n",
       "      <td>385.000000</td>\n",
       "      <td>...</td>\n",
       "      <td>0.000000</td>\n",
       "      <td>24.000000</td>\n",
       "      <td>0.000000</td>\n",
       "      <td>0.000000</td>\n",
       "      <td>0.000000</td>\n",
       "      <td>0.000000</td>\n",
       "      <td>0.000000</td>\n",
       "      <td>6.000000</td>\n",
       "      <td>2008.000000</td>\n",
       "      <td>163900.000000</td>\n",
       "    </tr>\n",
       "    <tr>\n",
       "      <th>75%</th>\n",
       "      <td>899.500000</td>\n",
       "      <td>70.000000</td>\n",
       "      <td>80.000000</td>\n",
       "      <td>11616.000000</td>\n",
       "      <td>7.000000</td>\n",
       "      <td>6.000000</td>\n",
       "      <td>2000.000000</td>\n",
       "      <td>2004.000000</td>\n",
       "      <td>167.000000</td>\n",
       "      <td>712.500000</td>\n",
       "      <td>...</td>\n",
       "      <td>168.000000</td>\n",
       "      <td>67.500000</td>\n",
       "      <td>0.000000</td>\n",
       "      <td>0.000000</td>\n",
       "      <td>0.000000</td>\n",
       "      <td>0.000000</td>\n",
       "      <td>0.000000</td>\n",
       "      <td>8.000000</td>\n",
       "      <td>2009.000000</td>\n",
       "      <td>214000.000000</td>\n",
       "    </tr>\n",
       "    <tr>\n",
       "      <th>max</th>\n",
       "      <td>1199.000000</td>\n",
       "      <td>190.000000</td>\n",
       "      <td>313.000000</td>\n",
       "      <td>215245.000000</td>\n",
       "      <td>10.000000</td>\n",
       "      <td>9.000000</td>\n",
       "      <td>2010.000000</td>\n",
       "      <td>2010.000000</td>\n",
       "      <td>1600.000000</td>\n",
       "      <td>2260.000000</td>\n",
       "      <td>...</td>\n",
       "      <td>857.000000</td>\n",
       "      <td>523.000000</td>\n",
       "      <td>552.000000</td>\n",
       "      <td>508.000000</td>\n",
       "      <td>410.000000</td>\n",
       "      <td>648.000000</td>\n",
       "      <td>15500.000000</td>\n",
       "      <td>12.000000</td>\n",
       "      <td>2010.000000</td>\n",
       "      <td>755000.000000</td>\n",
       "    </tr>\n",
       "  </tbody>\n",
       "</table>\n",
       "<p>8 rows × 38 columns</p>\n",
       "</div>"
      ],
      "text/plain": [
       "                Id   MSSubClass  LotFrontage        LotArea  OverallQual  \\\n",
       "count  1199.000000  1199.000000   989.000000    1199.000000  1199.000000   \n",
       "mean    600.000000    57.105922    70.081901   10558.848207     6.106756   \n",
       "std     346.265794    42.686374    23.713505   10623.548705     1.382678   \n",
       "min       1.000000    20.000000    21.000000    1300.000000     1.000000   \n",
       "25%     300.500000    20.000000    59.000000    7560.000000     5.000000   \n",
       "50%     600.000000    50.000000    70.000000    9430.000000     6.000000   \n",
       "75%     899.500000    70.000000    80.000000   11616.000000     7.000000   \n",
       "max    1199.000000   190.000000   313.000000  215245.000000    10.000000   \n",
       "\n",
       "       OverallCond    YearBuilt  YearRemodAdd   MasVnrArea   BsmtFinSF1  \\\n",
       "count  1199.000000  1199.000000   1199.000000  1193.000000  1199.000000   \n",
       "mean      5.568807  1971.357798   1984.992494   104.006706   444.801501   \n",
       "std       1.120485    30.059978     20.535058   183.605510   440.161545   \n",
       "min       1.000000  1875.000000   1950.000000     0.000000     0.000000   \n",
       "25%       5.000000  1954.000000   1967.000000     0.000000     0.000000   \n",
       "50%       5.000000  1973.000000   1994.000000     0.000000   385.000000   \n",
       "75%       6.000000  2000.000000   2004.000000   167.000000   712.500000   \n",
       "max       9.000000  2010.000000   2010.000000  1600.000000  2260.000000   \n",
       "\n",
       "           ...         WoodDeckSF  OpenPorchSF  EnclosedPorch    3SsnPorch  \\\n",
       "count      ...        1199.000000  1199.000000    1199.000000  1199.000000   \n",
       "mean       ...          95.216013    45.986656      22.196831     3.656380   \n",
       "std        ...         124.055413    65.696803      61.529650    30.003428   \n",
       "min        ...           0.000000     0.000000       0.000000     0.000000   \n",
       "25%        ...           0.000000     0.000000       0.000000     0.000000   \n",
       "50%        ...           0.000000    24.000000       0.000000     0.000000   \n",
       "75%        ...         168.000000    67.500000       0.000000     0.000000   \n",
       "max        ...         857.000000   523.000000     552.000000   508.000000   \n",
       "\n",
       "       ScreenPorch     PoolArea       MiscVal       MoSold       YrSold  \\\n",
       "count  1199.000000  1199.000000   1199.000000  1199.000000  1199.000000   \n",
       "mean     14.993328     1.910759     40.487073     6.308590  2007.812344   \n",
       "std      54.789200    33.162113    482.523289     2.672094     1.318539   \n",
       "min       0.000000     0.000000      0.000000     1.000000  2006.000000   \n",
       "25%       0.000000     0.000000      0.000000     5.000000  2007.000000   \n",
       "50%       0.000000     0.000000      0.000000     6.000000  2008.000000   \n",
       "75%       0.000000     0.000000      0.000000     8.000000  2009.000000   \n",
       "max     410.000000   648.000000  15500.000000    12.000000  2010.000000   \n",
       "\n",
       "           SalePrice  \n",
       "count    1199.000000  \n",
       "mean   181442.497081  \n",
       "std     81098.986765  \n",
       "min     34900.000000  \n",
       "25%    129900.000000  \n",
       "50%    163900.000000  \n",
       "75%    214000.000000  \n",
       "max    755000.000000  \n",
       "\n",
       "[8 rows x 38 columns]"
      ]
     },
     "execution_count": 4,
     "metadata": {},
     "output_type": "execute_result"
    }
   ],
   "source": [
    "houses_train.get_dtype_counts()\n",
    "houses_train.describe()"
   ]
  },
  {
   "cell_type": "markdown",
   "metadata": {},
   "source": [
    "## <span style=\"color:brown; font-family:times; font-size:1.3em;\">3.3 Variables Correlation with SalePrice </span>\n",
    "<span style=\"color:black; font-family:Georgia; font-size:1.3em;\">In this section we will search for the two most correlated variables.</span>\n"
   ]
  },
  {
   "cell_type": "code",
   "execution_count": 5,
   "metadata": {},
   "outputs": [],
   "source": [
    "# Todo\n",
    "# calculate the correlation between salePrice and all variables\n",
    "# Keep the two most correlated variables to test them with the simple linear regression\n"
   ]
  },
  {
   "cell_type": "code",
   "execution_count": 6,
   "metadata": {},
   "outputs": [],
   "source": [
    "# calculate the esperance of a variable\n",
    "def esperance(tab):\n",
    "    n = len(tab)\n",
    "    s = 0\n",
    "    for x in tab:\n",
    "        s += x\n",
    "    return s / n"
   ]
  },
  {
   "cell_type": "code",
   "execution_count": 7,
   "metadata": {},
   "outputs": [],
   "source": [
    "# calculate the distance to the mean for a variable of the train data\n",
    "def distance(tab):\n",
    "    mean = esperance(tab)\n",
    "    return [x - mean for x in tab]"
   ]
  },
  {
   "cell_type": "code",
   "execution_count": 8,
   "metadata": {},
   "outputs": [],
   "source": [
    "#calulate the variance of a variabla\n",
    "def variance(tab):\n",
    "    dist = distance(tab)\n",
    "    return sum([x**2 for x in dist]) / len(dist)\n",
    "    "
   ]
  },
  {
   "cell_type": "code",
   "execution_count": 9,
   "metadata": {},
   "outputs": [],
   "source": [
    "# calculate the covariance of two variables given for each value of the two variable the distance to the mean\n",
    "def covariance(tab1, tab2):\n",
    "    return esperance([x * y for x,y in zip(distance(tab1),distance(tab2))])\n",
    "    "
   ]
  },
  {
   "cell_type": "code",
   "execution_count": 10,
   "metadata": {},
   "outputs": [],
   "source": [
    "# calculate the correlation between two variable\n",
    "def correlation(tab1, tab2):\n",
    "    return covariance(tab1, tab2) / (variance(tab1) * variance(tab2))**.5"
   ]
  },
  {
   "cell_type": "code",
   "execution_count": 11,
   "metadata": {},
   "outputs": [],
   "source": [
    "# get the name of the numeric variables\n",
    "names = [\n",
    "    name\n",
    "    for name in houses_train.columns\n",
    "    if \n",
    "        houses_train[name].dtype in ['float64', 'int64']\n",
    "        and\n",
    "        all((x==x for x in houses_train[name])) # I don't use the columns who contains some 'nan' value\n",
    "]"
   ]
  },
  {
   "cell_type": "code",
   "execution_count": 12,
   "metadata": {},
   "outputs": [
    {
     "data": {
      "text/plain": [
       "[(0.7403659162364661, 'GrLivArea'), (0.7894380947520542, 'OverallQual')]"
      ]
     },
     "execution_count": 12,
     "metadata": {},
     "output_type": "execute_result"
    }
   ],
   "source": [
    "strongestCorrelation = [(0, ''), (0, '')]\n",
    "for name in names:\n",
    "    if name == 'SalePrice':\n",
    "        continue\n",
    "    cor = correlation(houses_train['SalePrice'], houses_train[name])\n",
    "    if cor > strongestCorrelation[0][0]:\n",
    "        strongestCorrelation[0] = (cor, name)\n",
    "        strongestCorrelation.sort()\n",
    "strongestCorrelation"
   ]
  },
  {
   "cell_type": "markdown",
   "metadata": {
    "collapsed": true
   },
   "source": [
    "## <span style=\"color:brown; font-family:times; font-size:1.3em;\">3.4 Plot SalePrice    </span> "
   ]
  },
  {
   "cell_type": "code",
   "execution_count": 13,
   "metadata": {},
   "outputs": [],
   "source": [
    "# get the data description\n",
    "description = {\"SalePrice\":\"Sale Price in dollar\"}\n",
    "with open(\"data_description.txt\") as f:\n",
    "    for line in f:\n",
    "        if ':' in line:\n",
    "            name, descr = line.split(':')\n",
    "            description[name] = descr"
   ]
  },
  {
   "cell_type": "code",
   "execution_count": 14,
   "metadata": {},
   "outputs": [],
   "source": [
    "# Todo\n",
    "# plot the SalePrices as function of your 2 variables (most correlated)\n",
    "# add x label and Y label, the values and the scatter\n",
    "first = strongestCorrelation[1][1]\n",
    "secnd = strongestCorrelation[0][1]\n",
    "\n",
    "def showCorrelationToSalePrice(tab, xlabel='not specified', funcof='not specified'):\n",
    "    plt.plot(tab, houses_train.SalePrice, 'o')\n",
    "    plt.title(\"Distribution of Sale Price as function of \" + funcof)\n",
    "    plt.xlabel(xlabel)\n",
    "    plt.ylabel(\"Sale Price (in dollar)\")"
   ]
  },
  {
   "cell_type": "code",
   "execution_count": 15,
   "metadata": {},
   "outputs": [
    {
     "data": {
      "image/png": "[encoded data removed]",
      "text/plain": [
       "<Figure size 432x288 with 1 Axes>"
      ]
     },
     "metadata": {
      "needs_background": "light"
     },
     "output_type": "display_data"
    }
   ],
   "source": [
    "showCorrelationToSalePrice(houses_train[first], xlabel=description[first], funcof=first)"
   ]
  },
  {
   "cell_type": "code",
   "execution_count": 16,
   "metadata": {},
   "outputs": [
    {
     "data": {
      "image/png": "[encoded data removed]",
      "text/plain": [
       "<Figure size 432x288 with 1 Axes>"
      ]
     },
     "metadata": {
      "needs_background": "light"
     },
     "output_type": "display_data"
    }
   ],
   "source": [
    "showCorrelationToSalePrice(houses_train[secnd], xlabel=description[secnd], funcof=secnd)"
   ]
  },
  {
   "cell_type": "markdown",
   "metadata": {},
   "source": [
    "# <span style=\"color:green; font-family:Georgia; font-size:1.5em;\">4. Regression Lineaire Simple (Python) </span>\n"
   ]
  },
  {
   "cell_type": "code",
   "execution_count": 17,
   "metadata": {},
   "outputs": [],
   "source": [
    "\n",
    "def beta1(x, y):\n",
    "    return covariance(x, y) / variance(x)\n",
    "\n",
    "def beta0(x, y, b1):\n",
    "    return esperance(y) - b1 * esperance(x)\n",
    "\n",
    "def betas(x, y):\n",
    "    b1 = beta1(x, y)\n",
    "    b0 = beta0(x, y, b1)\n",
    "    return (b0, b1)\n",
    "\n",
    "def coefDetermination_2(x, y, b0, b1):\n",
    "    y_ = esperance(y)\n",
    "    ycalc = [b0 + b1*xi for xi in x]\n",
    "    sce = sum([(yi - y_)**2 for yi in ycalc])\n",
    "    sct = sum([(yi - y_)**2 for yi in y])\n",
    "    return sce/sct\n",
    "\n",
    "def regLin(x, y, modifInput = lambda x: x):\n",
    "    x = [modifInput(xi) for xi in x]\n",
    "    b0, b1 = betas(x, y)\n",
    "    r2 = coefDetermination_2(x, y, b0, b1)\n",
    "    def modele(x):\n",
    "        x = modifInput(x)\n",
    "        return b0 + b1 * x\n",
    "    \n",
    "    return modele, b0, b1, r2"
   ]
  },
  {
   "cell_type": "code",
   "execution_count": 18,
   "metadata": {},
   "outputs": [
    {
     "name": "stdout",
     "output_type": "stream",
     "text": [
      "b0:-101320.72837888583, b1:46303.34708089103, r2:0.6232125054457559\n"
     ]
    }
   ],
   "source": [
    "regLinSimple = regLin(houses_train[first], houses_train.SalePrice)\n",
    "print(\"b0:{}, b1:{}, r2:{}\".format(*regLinSimple[1:]))"
   ]
  },
  {
   "cell_type": "code",
   "execution_count": 19,
   "metadata": {},
   "outputs": [
    {
     "data": {
      "image/png": "[encoded data removed]",
      "text/plain": [
       "<Figure size 432x288 with 1 Axes>"
      ]
     },
     "metadata": {
      "needs_background": "light"
     },
     "output_type": "display_data"
    }
   ],
   "source": [
    "def plot(dataX, dataY, modele, xlabel=\"not set\", ylabel=description[\"SalePrice\"], title=\"not set\", legend=[\"training data\", \"prediction\"]):\n",
    "\n",
    "    #     reality\n",
    "    plt.plot(dataX, dataY, 'o')\n",
    "    plt.title(title)\n",
    "    plt.xlabel(xlabel)\n",
    "    plt.ylabel(ylabel)\n",
    "    #     modele\n",
    "    plt.plot(dataX, [modele(xi) for xi in dataX])\n",
    "    plt.legend(legend)\n",
    "\n",
    "plot(\n",
    "    houses_train[first],\n",
    "    houses_train.SalePrice,\n",
    "    regLinSimple[0],\n",
    "    xlabel=description[first],\n",
    "    title=\"Distribution of Sale Price as a function of \"+first\n",
    ")\n",
    "# showCorrelationToSalePrice(houses_train[first], xlabel=description[first], funcof=first)\n",
    "# plt.plot(houses_train[first], [regLinSimple[0](xi) for xi in houses_train[first]]);"
   ]
  },
  {
   "cell_type": "code",
   "execution_count": 20,
   "metadata": {},
   "outputs": [],
   "source": [
    "# prédire les valeurs sur les données de Test\n",
    "def getPred(modele, x):\n",
    "    return [modele(xi) for xi in x]\n",
    "\n",
    "# getPred(regLinSimple[0], houses_test[first])"
   ]
  },
  {
   "cell_type": "code",
   "execution_count": 21,
   "metadata": {},
   "outputs": [],
   "source": [
    "# def dataBuild():\n",
    "\n",
    "# class RegLin:\n",
    "#     def __init__(self, training_data)\n",
    "\n",
    "# class Modele:\n",
    "#     def __init__(self, training_data, testing_data):\n",
    "#         self.train = training_data\n",
    "#         self.test = testing_data\n",
    "#         self.name\n",
    "    \n",
    "#     def show(self):\n",
    "\n",
    "\n",
    "        "
   ]
  },
  {
   "cell_type": "markdown",
   "metadata": {},
   "source": [
    "# <span style=\"color:green; font-family:Georgia; font-size:1.5em;\">5.  Evaluation du  modèle (RMSE)\n",
    "  </span>\n"
   ]
  },
  {
   "cell_type": "markdown",
   "metadata": {},
   "source": [
    "<span style=\"font-family:Georgia; font-size:1.2em;\">La  racine  carrée  de l’erreur quadratique moyenne (RMSE) est une   autre  mesure  des  erreurs  de  prévision. La RMSE est définie par : $ RMSE = \\sqrt{ \\frac{1}{n} \\sum (pred - y)^{2}} $.\n",
    "</span>\n",
    "\n",
    "<span style=\"font-family:Georgia; font-size:1.2em;\">\n",
    "Cette  mesure  pénalise  d'avantage  les  erreurs  importantes \n",
    "</span>"
   ]
  },
  {
   "cell_type": "code",
   "execution_count": 22,
   "metadata": {},
   "outputs": [
    {
     "data": {
      "text/plain": [
       "42897.371040357066"
      ]
     },
     "execution_count": 22,
     "metadata": {},
     "output_type": "execute_result"
    }
   ],
   "source": [
    "# Calculez la RMSE de votre modèle sur les données de test\n",
    "def calcRMSE(modele, x, y):\n",
    "    pred = getPred(modele, x)\n",
    "    return (sum([(pr - yi)**2 for pr, yi in zip(pred, y)]) / len(pred))**0.5\n",
    "\n",
    "calcRMSE(regLinSimple[0], houses_test[first], houses_test.SalePrice)"
   ]
  },
  {
   "cell_type": "code",
   "execution_count": 23,
   "metadata": {},
   "outputs": [],
   "source": [
    "# calcRMSE(regLinSimple[0], houses_train[first], houses_train.SalePrice)"
   ]
  },
  {
   "cell_type": "markdown",
   "metadata": {},
   "source": [
    "# <span style=\"color:green; font-family:Georgia; font-size:1.5em;\">6.  Pour aller plus loin </span>"
   ]
  },
  {
   "cell_type": "markdown",
   "metadata": {},
   "source": [
    "<span style=\"font-family:Georgia; font-size:1.2em;\">  \n",
    "La standardisation des données consiste à centrer-réduire la matrice de fonctions caractéristiques  $X$ en retranchant pour chaque vecteur $X^{j}, j \\in [1, N]$ sa moyenne et en divisant par son écart-type.\n",
    "</span>\n",
    "\n",
    "\n",
    "<span style=\"font-family:Georgia; font-size:1.2em;\">\n",
    "La formule d’usage est alors : $ ~~~~~~~~~~~  \\forall j \\in [1, N] ~~~~ X^{j} = \\frac{X^{j}_{std} - \\mu_{j}}{ \\sigma^{2}_{j}}$\n",
    "\n",
    "</span>"
   ]
  },
  {
   "cell_type": "code",
   "execution_count": 24,
   "metadata": {
    "scrolled": true
   },
   "outputs": [
    {
     "name": "stdout",
     "output_type": "stream",
     "text": [
      "b0:181442.4970809008, b1:63995.92568454615, r2:0.6232125054457583\n",
      "b0:-101320.72837888583, b1:46303.34708089103, r2:0.6232125054457559\n"
     ]
    },
    {
     "data": {
      "image/png": "[encoded data removed]",
      "text/plain": [
       "<Figure size 432x288 with 1 Axes>"
      ]
     },
     "metadata": {
      "needs_background": "light"
     },
     "output_type": "display_data"
    }
   ],
   "source": [
    "# Todo :\n",
    "##  refaire le calcul des paramètres après un prétraitement sur les données d'apprentissage\n",
    "##  1.  Centrer la variable --> soustraire son espérance à chacune de ses valeurs initiales\n",
    "##  2.  Réduire la variable --> diviser toutes ses valeurs par son écart type.\n",
    "## --------------------------\n",
    "##    Soient  μ  l’espérance et σ l’écart-type des valeurs d’une variable aléatoire.\n",
    "##    Centrer-réduire l’une de ses valeurs V revient alors à calculer : \n",
    "##          (V - μ ) / σ \n",
    "## --------------------------\n",
    "##  3. re-éstimer les paramètre de modèle \n",
    "##  4. re-calculer la précision du modèle sur les données de test.\n",
    "def moyenne_ecartType(tab):\n",
    "    return esperance(tab), variance(tab)**0.5\n",
    "m, ec = moyenne_ecartType(houses_train[first])\n",
    "\n",
    "# x = [(xi-m)/ec for xi in houses_train[first]]\n",
    "\n",
    "regLinCentreReduite = regLin(houses_train[first], houses_train.SalePrice, modifInput=lambda x: (x-m)/ec)\n",
    "print(\"b0:{}, b1:{}, r2:{}\".format(*regLinCentreReduite[1:]))\n",
    "print(\"b0:{}, b1:{}, r2:{}\".format(*regLinSimple[1:]))\n",
    "\n",
    "plot(\n",
    "    houses_train[first],\n",
    "    houses_train.SalePrice,\n",
    "    regLinCentreReduite[0],\n",
    "    xlabel=description[first],\n",
    "    title=\"Distribution of Sale Price as a function of \"+first\n",
    ")"
   ]
  },
  {
   "cell_type": "code",
   "execution_count": 25,
   "metadata": {},
   "outputs": [
    {
     "data": {
      "text/plain": [
       "42897.3710403571"
      ]
     },
     "execution_count": 25,
     "metadata": {},
     "output_type": "execute_result"
    }
   ],
   "source": [
    "calcRMSE(regLinCentreReduite[0], houses_test[first], houses_test.SalePrice)"
   ]
  },
  {
   "cell_type": "markdown",
   "metadata": {},
   "source": [
    "La standardisation ne change pas les résultats, Les donnée de qualitée général devait donc surement être déja normalisé."
   ]
  },
  {
   "cell_type": "markdown",
   "metadata": {
    "collapsed": true
   },
   "source": [
    "# <span style=\"color:green; font-family:Georgia; font-size:1.5em;\">END</span>"
   ]
  }
 ],
 "metadata": {
  "kernelspec": {
   "display_name": "Python 3",
   "language": "python",
   "name": "python3"
  },
  "language_info": {
   "codemirror_mode": {
    "name": "ipython",
    "version": 3
   },
   "file_extension": ".py",
   "mimetype": "text/x-python",
   "name": "python",
   "nbconvert_exporter": "python",
   "pygments_lexer": "ipython3",
   "version": "3.7.0"
  }
 },
 "nbformat": 4,
 "nbformat_minor": 1
}
