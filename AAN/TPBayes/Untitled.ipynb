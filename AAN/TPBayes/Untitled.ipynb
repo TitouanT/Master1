{
 "cells": [
  {
   "cell_type": "code",
   "execution_count": 14,
   "metadata": {
    "attributes": {
     "classes": [],
     "id": "",
     "n": "14"
    }
   },
   "outputs": [],
   "source": [
    "def printMat(m):\n",
    "    for r in m:\n",
    "        print(r)\n",
    "    print()"
   ]
  },
  {
   "cell_type": "code",
   "execution_count": 69,
   "metadata": {
    "attributes": {
     "classes": [],
     "id": "",
     "n": "69"
    }
   },
   "outputs": [],
   "source": [
    "def comatrice(mat):\n",
    "    com = []\n",
    "    lsign = 1\n",
    "    n = len(mat)\n",
    "    for i in range(n):\n",
    "        sign = lsign\n",
    "        line = []\n",
    "        com.append(line)\n",
    "        for j in range(n):\n",
    "            cofactor = sign * determinant([l[:j]+l[j+1:] for l in mat[:i]+mat[i+1:]])\n",
    "            sign*=-1\n",
    "            line.append(cofactor)\n",
    "        lsign*=-1\n",
    "    return com\n",
    "\n"
   ]
  },
  {
   "cell_type": "code",
   "execution_count": 65,
   "metadata": {
    "attributes": {
     "classes": [],
     "id": "",
     "n": "65"
    }
   },
   "outputs": [],
   "source": [
    "def determinant(mat):\n",
    "    n=len(mat)\n",
    "    if (n == 1):\n",
    "        return mat[0][0]\n",
    "    sign = 1\n",
    "    det = 0\n",
    "    for i in range(n):\n",
    "        det += sign * mat[i][0] * determinant([l[1:] for l in mat[:i]+mat[i+1:]])\n",
    "        sign *= -1\n",
    "    return det"
   ]
  },
  {
   "cell_type": "code",
   "execution_count": 72,
   "metadata": {
    "attributes": {
     "classes": [],
     "id": "",
     "n": "72"
    }
   },
   "outputs": [],
   "source": [
    "def transpose(mat):\n",
    "    tmat=[]\n",
    "    for j in range(len(mat[0])):\n",
    "        line = []\n",
    "        for i in range(len(mat)):\n",
    "            line.append(mat[i][j])\n",
    "        tmat.append(line)\n",
    "    return tmat\n",
    "    "
   ]
  },
  {
   "cell_type": "code",
   "execution_count": 81,
   "metadata": {
    "attributes": {
     "classes": [],
     "id": "",
     "n": "81"
    }
   },
   "outputs": [
    {
     "name": "stdout",
     "output_type": "stream",
     "text": [
      "[9, 13, -1]\n",
      "[14, 13, -3]\n",
      "[19, 18, -4]\n",
      "\n"
     ]
    }
   ],
   "source": [
    "def inverse(mat):\n",
    "    d = determinant(mat)\n",
    "    if d == 0:\n",
    "        return None\n",
    "    inv = transpose(comatrice(mat))\n",
    "    for l in inv:\n",
    "        for i in range(len(l)):\n",
    "            l[i] /= d\n",
    "    return inv\n",
    "\n",
    "def produit(a, b):\n",
    "    if (len(a[0]) != len(b)):\n",
    "        return None\n",
    "    prod = []\n",
    "    tb = transpose(b)\n",
    "    for l in a:\n",
    "        line = []\n",
    "        prod.append(line)\n",
    "        for c in tb:\n",
    "            line.append(sum((va*vb for va,vb in zip(l,c)) ))\n",
    "    \n",
    "    return prod\n",
    "\n",
    "# a = [[1,2,0],[4,3,-1]]\n",
    "# b = [[5,1],[2,3],[3,4]]\n",
    "# printMat(produit(b,a))\n",
    "        "
   ]
  },
  {
   "cell_type": "code",
   "execution_count": null,
   "metadata": {},
   "outputs": [],
   "source": [
    "def gaussienneMultiD(x, varcov, mu):\n",
    "    det = determinant(varcov)\n",
    "    dim = len(x)\n",
    "    denominateur = ((2 * math.pi)**dim * det)**0.5\n",
    "    txmu = [[xi-mui for xi,mui in zip(x, mu)]]\n",
    "    xmu = transpose(txmu)\n",
    "    inv = inverse(varcov)\n",
    "    dist2 = produit(produit(txmu, inv), xmu)[0][0]\n",
    "    return math.exp(-dist2/2) / denominateur\n",
    "\n",
    "def matrice_de_covariance(individus):\n",
    "    n = len(individus)\n",
    "    features = transpose(individus)\n",
    "    mus = [sum(feature)/n for feature in features]\n",
    "    \n",
    "    features_norm = [[v-mu for v in feature] for feature,mu in zip(features,mus)]\n",
    "    \n",
    "    varcovar_almost = produit(features_norm, transpose(features_norm))\n",
    "    varcovar = [[v/n for v in line] for line in varcovar_almost]\n",
    "    return varcovar\n",
    "        \n",
    "    \n",
    "    "
   ]
  },
  {
   "cell_type": "code",
   "execution_count": 77,
   "metadata": {
    "attributes": {
     "classes": [],
     "id": "",
     "n": "77"
    }
   },
   "outputs": [
    {
     "name": "stdout",
     "output_type": "stream",
     "text": [
      "[1, 2]\n",
      "[3, 4]\n",
      "\n",
      "[4, -3]\n",
      "[-2, 1]\n",
      "\n",
      "[1, 3]\n",
      "[2, 4]\n",
      "\n",
      "[-2.0, 1.0]\n",
      "[1.5, -0.5]\n",
      "\n"
     ]
    }
   ],
   "source": [
    "mat = [[1,2], [3,4]]\n",
    "printMat(mat)\n",
    "printMat(comatrice(mat))\n",
    "determinant(mat)\n",
    "printMat(transpose(mat))\n",
    "printMat(inverse(mat))"
   ]
  }
 ],
 "metadata": {},
 "nbformat": 4,
 "nbformat_minor": 2
}
